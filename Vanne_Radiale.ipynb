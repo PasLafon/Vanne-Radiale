{
 "cells": [
  {
   "cell_type": "markdown",
   "metadata": {},
   "source": [
    "<a href=\"http://www.utt.fr\"><img src=\"logo-UTT.svg\" width=\"200\" align=\"left\"></a>\n",
    "### Formation d'Ingénieur en Génie Mécanique\n",
    "#### Mécanique des fluides (code UE MQ07 niveau L3)\n",
    "---\n",
    "\n",
    "* Rapide tutoriel sur les [Notebook Jupyter](../../Tuto-Perso-Jupyter/Tuto-Jupyter.md)\n",
    "\n",
    "---"
   ]
  },
  {
   "cell_type": "markdown",
   "metadata": {},
   "source": [
    "## Vanne radiale"
   ]
  },
  {
   "cell_type": "markdown",
   "metadata": {},
   "source": [
    "Une vanne radiale est fermée , elle est constituée d'une portion de cylindre d'axe $Oy$ de rayon $R$=2m, de\n",
    "longueur $L$=5m et d'angle de 40° sur laquelle à gauche s'exerce la pression de l'eau et à droite la pression\n",
    "atmosphérique. La vanne a une masse $M$, $G$ est son centre de gravité et la vanne est articulée autour d'un axe\n",
    "horizontal passant par le point $O$ le haut de la vanne en contact avec l'eau est à la profondeur $h$=2m le bas de la vanne reposant sur le sol est à $2 + 2*\\sin(40)= 3,28m$ de profondeur un point $M$ sur la surface cylindrique est repéré par l'angle $\\theta$ mesuré à partir du haut de la vanne\n",
    "\n",
    "![](Fig-vanne-radiale.png)\n",
    "\n",
    "1. Exprimer la pression absolue exercée par l'eau sur la vanne en $M$ à partir de l'équation fondamentale de l'hydrostatique, puis la pression relative\n",
    "2. Représenter sur un schéma l'effort $\\mathrm{d}F$ exercé en $M$ par la pression sur un élément de surface $\\mathrm{d}S$\n",
    "3. Calculer la résultante de la pression relative de l'eau sur la vanne\n",
    "4. En isolant la vanne, déterminer la masse minimale de la vanne nécessaire pour maintenir le contact de la vanne avec le sol Mθzx"
   ]
  },
  {
   "cell_type": "markdown",
   "metadata": {},
   "source": [
    "### 1) Pression exercée par l'eau sur la vanne :"
   ]
  },
  {
   "cell_type": "markdown",
   "metadata": {},
   "source": [
    "* En appliquant la loi de l'hydrostatique entre le point $O$ et le point $M$, avec $\\vec{z}$ dirigé vers le haut en prenant l'origine à la surface de l'eau :\n",
    "\n",
    "$$P(O) + \\rho g z_o = P(M) + \\rho g z_M\\Longrightarrow P_{atm} = p(z_M) + \\rho g z_M\\Longrightarrow p(z_M) = P_{atm} - \\rho g z_M$$\n",
    "\n",
    "Ici $z_M = -\\left(h+R\\sin(\\theta)\\right)$, donc :\n",
    "\n",
    "$$P(M) = p(z_M) = P_{atm} + \\rho g\\left(h + R\\sin(\\theta)\\right)$$"
   ]
  },
  {
   "cell_type": "markdown",
   "metadata": {},
   "source": [
    "<img src=\"Fig-pression-absolue.png\" width=\"400\" style=\"float:center\">"
   ]
  },
  {
   "cell_type": "markdown",
   "metadata": {},
   "source": [
    "* En tenant compte de la pression atmosphérique s'exerçant sur l'eau et à l'extérieur de la vanne, la pression relative en $M$ (ou différence de pression) $\\Delta P_M$ s'écrit :\n",
    "\n",
    "$$\\Delta P_M = P_M - P_{atm} = \\rho g\\left(h + R\\sin(\\theta)\\right)$$"
   ]
  },
  {
   "cell_type": "markdown",
   "metadata": {},
   "source": [
    "### 2) Effort $\\mathrm{d}F$ exercé en $M$ par la pression sur un élément de surface $\\mathrm{d}S$:"
   ]
  },
  {
   "cell_type": "markdown",
   "metadata": {},
   "source": [
    "![effort_elementaire](Fig-dF.png)"
   ]
  },
  {
   "cell_type": "markdown",
   "metadata": {},
   "source": [
    "* L'élément de surface $\\mathrm{d}S$ de la face cylindrique de la vanne radiale en contact avec l'eau s'écrit (l'axe $\\vec{y}$ étant orienté suivant l'axe du cylindre, donc pependiculaire à la figure):\n",
    "\n",
    "$$\\mathrm{d}S = R\\mathrm{d}\\theta \\mathrm{d}y$$\n",
    "Comme dans ce problème la pression est constante suivante l'axe $\\vec{y}$ on peut écrire que , avec $L$ largeur de la vanne :\n",
    "\n",
    "$$\\mathrm{d}S = R\\mathrm{d}\\theta L$$\n",
    "Et l'effort élémentaire dû à la pression relative (ou différence de pression en $M$) s'écrit :\n",
    "\n",
    "$$\\mathrm{d}\\vec{F}=-\\Delta P_M \\mathrm{d}S\\vec{n} = -\\rho g\\left(h + R\\sin(\\theta)\\right)R\\mathrm{d}\\theta L\\vec{n}$$\n",
    "Ici $\\vec{n}$ est la normale \"sortante\" à l'élément de surface $\\mathrm{d}S$ (i.e orientée vers l'extérieur de $\\mathrm{d}S$, vers l'eau), vecteur unitaire tel que :\n",
    "\n",
    "$$\\vec{n}=\\frac{\\vec{OM}}{\\Vert\\vec{OM}\\Vert}$$\n",
    "\n",
    "Donc dans le repère de la figure :\n",
    "\n",
    "$$\\vec{n}=-\\cos(\\theta)\\vec{x} -\\sin(\\theta)\\vec{z}$$\n",
    "et\n",
    "$$\\mathrm{d}\\vec{F} = \\rho g\\left(h + R\\sin(\\theta)\\right)R\\mathrm{d}\\theta L\\left(\\cos(\\theta)\\vec{x} + \\sin(\\theta)\\vec{z}\\right)$$"
   ]
  },
  {
   "cell_type": "markdown",
   "metadata": {},
   "source": [
    "### 3)  Résultante des forces de pression sur la vanne :"
   ]
  },
  {
   "cell_type": "markdown",
   "metadata": {},
   "source": [
    "* Le torseur de l'action mécanique de la pression de l'eau sur la vanne, s'écrit :\n",
    "\n",
    "$$\n",
    "\\left\\lbrace\\mathcal{T}_{\\text{Eau}\\to\\text{Vanne}}\\right\\rbrace:\n",
    "\\left\\lbrace\n",
    "\\begin{array}{c}\n",
    "\\vec{\\mathcal{R}}_{\\text{Eau}\\to\\text{Vanne}}\\\\\n",
    "\\vec{\\mathcal{M}}_{O_{\\text{Eau}\\to\\text{Vanne}}}\n",
    "\\end{array}\n",
    "\\right\\rbrace_{O}=\n",
    "\\left\\lbrace\n",
    "\\begin{array}{c}\n",
    "\\iint\\limits_S\\mathrm{d}\\vec{F}\\\\\n",
    "\\iint\\limits_S\\mathrm{d}\\vec{OM}\\wedge\\mathrm{d}\\vec{F}\n",
    "\\end{array}\n",
    "\\right\\rbrace_{O}\n",
    "$$\n",
    "\n",
    "On remarque le fait d'écrire les composantes du torseur au point $O$, nous permet de conclure que le moment résultant des forces de pression sur la vanne $\\vec{\\mathcal{M}}_{O\\text{Eau}\\to\\text{Vanne}}$ est null car $\\forall M\\in S$, $\\vec{OM}\\wedge\\mathrm{d}\\vec{F}=\\vec{O}$, puisque $\\vec{OM}$ et $\\mathrm{d}\\vec{F}$ sont colinéaires.  "
   ]
  },
  {
   "cell_type": "markdown",
   "metadata": {},
   "source": [
    " * Pour calculer la résultante, il suffit de calculer :\n",
    " \n",
    "$$\\vec{\\mathcal{R}}_{\\text{Eau}\\to\\text{Vanne}} = \\iint\\limits_S\\mathrm{d}\\vec{F} = \\int\\limits_0^{2\\theta_0}\\rho g\\left(h + R\\sin(\\theta)\\right)R L\\left(\\cos(\\theta)\\vec{x} + \\sin(\\theta)\\vec{z}\\right)\\mathrm{d}\\theta$$\n",
    "\n",
    "où $\\theta_0=20°$.\n",
    "\n",
    " * On obtient les composantes de la résultante $\\vec{\\mathcal{R}}_{\\text{Eau}\\to\\text{Vanne}}$ :\n",
    "     * Suivant $\\vec{x}$ :\n",
    "     \n",
    "     $$R_x=\\frac{\\rho g LR}{2}\\left[ R + \\left( 2h\\sin(2\\theta_0) - R\\cos^2(2\\theta_0)\\right)\\right]$$\n",
    "     \n",
    "     * Suivant $\\vec{z}$ :\n",
    "     \n",
    "     $$R_z=\\rho g LR\\left[ 1 + \\left( R - \\frac{R\\sin(2\\theta_0)\\cos(2\\theta_0)}{2} - h\\cos(2\\theta_0)\\right)\\right]$$"
   ]
  },
  {
   "cell_type": "markdown",
   "metadata": {},
   "source": [
    "### 4) Equilibre de la vanne et masse minimale."
   ]
  },
  {
   "cell_type": "markdown",
   "metadata": {},
   "source": [
    "* Si on isole la vanne, le bilan des actions mécaniques extérieures à la vanne fait apparaître :\n",
    "    * Le torseur des actions de contact de l'articulation en $O$ (liaison pivot) :\n",
    "    \n",
    "    $$\\left\\lbrace\\mathcal{T}_{\\text{Pivot}\\to\\text{Vanne}}\\right\\rbrace:\n",
    "    \\left\\lbrace\n",
    "    \\begin{array}{c}\n",
    "    \\vec{\\mathcal{R}}_{\\text{Pivot}\\to\\text{Vanne}}=X_O\\vec{x}+Z-O\\vec{z}\\\\\n",
    "    \\vec{0}\n",
    "    \\end{array}\n",
    "    \\right\\rbrace_{O}$$\n",
    "    \n",
    "    * Le torseur des actions de contact du sol sur la vanne agissant en $H$ :\n",
    "    \n",
    "    $$\\left\\lbrace\\mathcal{T}_{\\text{Sol}\\to\\text{Vanne}}\\right\\rbrace:\n",
    "    \\left\\lbrace\n",
    "    \\begin{array}{c}\n",
    "    \\vec{\\mathcal{R}}_{\\text{Sol}\\to\\text{Vanne}}=Y_H\\vec{z}\\\\\n",
    "    \\vec{0}\n",
    "    \\end{array}\n",
    "    \\right\\rbrace_{H}$$\n",
    "    \n",
    "    * Le torseur de l'action mécanique de la pression de l'eau en :\n",
    "    \n",
    "    $$\\left\\lbrace\\mathcal{T}_{\\text{Eau}\\to\\text{Vanne}}\\right\\rbrace:\n",
    "    \\left\\lbrace\n",
    "    \\begin{array}{c}\n",
    "    \\vec{\\mathcal{R}}_{\\text{Eau}\\to\\text{Vanne}}=R_x\\vec{x}+R_z\\vec{z}\\\\\n",
    "    \\vec{0}\n",
    "    \\end{array}\n",
    "    \\right\\rbrace_{O}$$ \n",
    "    \n",
    "    * Le torseur du poids de la vanne en $G$ :\n",
    "    \n",
    "    $$\\left\\lbrace\\mathcal{T}_{\\text{Poids}\\to\\text{Vanne}}\\right\\rbrace:\n",
    "    \\left\\lbrace\n",
    "    \\begin{array}{c}\n",
    "    \\vec{\\mathcal{P}}=-mg\\vec{z}\\\\\n",
    "    \\vec{0}\n",
    "    \\end{array}\n",
    "    \\right\\rbrace_{G}$$ \n",
    "    \n",
    "    * Le PFS en $O$ s'écrit :\n",
    "    \n",
    "    $$\n",
    "    \\left\\lbrace\n",
    "    \\begin{array}{c}\n",
    "    X_O\\vec{x}+Z-O\\vec{z}\\\\\n",
    "    \\vec{0}\n",
    "    \\end{array}\n",
    "    \\right\\rbrace_{O}+\n",
    "    \\left\\lbrace\n",
    "    \\begin{array}{c}\n",
    "    R_H\\vec{z}\\\\\n",
    "    \\vec{OH}\\wedge Y_H\\vec{z}\n",
    "    \\end{array}\n",
    "    \\right\\rbrace_{H}+\n",
    "    \\left\\lbrace\n",
    "    \\begin{array}{c}\n",
    "    R_x\\vec{x}+R_z\\vec{z}\\\\\n",
    "    \\vec{0}\n",
    "    \\end{array}\n",
    "    \\right\\rbrace_{O}+\n",
    "    \\left\\lbrace\n",
    "    \\begin{array}{c}\n",
    "    -mg\\vec{z}\\\\\n",
    "    \\vec{OG}\\wedge(-mg\\vec{z})\n",
    "    \\end{array}\n",
    "    \\right\\rbrace_{O}=\n",
    "    \\lbrace\\vec{0}\\rbrace\n",
    "    $$\n",
    "    \n",
    "    Avec $\\vec{OH}=-R(\\cos(2\\theta_0)\\vec{x} + \\sin(2\\theta_0)\\vec{z})$ et $\\vec{OG}=-a(\\cos(\\theta_0)\\vec{x} + \\sin(\\theta_0)\\vec{z})$ ($a=1.5$m), ce PFS donne les 3 équations scalaires :\n",
    "    \n",
    "    $$\n",
    "    \\left\\lbrace\n",
    "    \\begin{array}{rl}\n",
    "    R_x + X_O &=0\\\\\n",
    "    R_y + Y_O + Y_H -mg &=0\\\\\n",
    "    amg\\cos(\\theta_0)  - RY_H\\cos(2\\theta_0) &= 0\n",
    "    \\end{array}\n",
    "    \\right.$$\n",
    "    "
   ]
  },
  {
   "cell_type": "markdown",
   "metadata": {},
   "source": [
    "* On tire du PFS :\n",
    "\n",
    "$$Y_H=\\frac{amg\\cos(\\theta_0)}{R\\cos(2\\theta_0)} \\quad X_O=-R_x \\quad Y_O = -R_y + mg\\left(1-\\frac{ag\\cos(\\theta_0)}{R\\cos(2\\theta_0)}\\right)$$\n",
    "\n",
    "On voit que le PFS est vérfié quelque soit la valeur de la masse $m$, donc l'équilibre est possible indépendamment de la masse $m$ de vanne."
   ]
  },
  {
   "cell_type": "markdown",
   "metadata": {},
   "source": [
    "----"
   ]
  },
  {
   "cell_type": "markdown",
   "metadata": {},
   "source": [
    "#### Bonus : calcul symbolique des composantes de la résultante avec la librairie `sympy` du langage `python`."
   ]
  },
  {
   "cell_type": "code",
   "execution_count": 1,
   "metadata": {},
   "outputs": [],
   "source": [
    "# On importe la libraire \"sympy\" -> docs sur https://www.sympy.org\n",
    "from sympy import *\n",
    "# On déclare les variables \"symboliques\" à utiliser :\n",
    "# Données :\n",
    "rho,g,teta,teta0,a,R,h,P,L = symbols('rho g theta theta_0 a R h P L')\n",
    "# Inconnues :\n",
    "XO,YO,YH = symbols('X_O Y_O Y_H')"
   ]
  },
  {
   "cell_type": "code",
   "execution_count": 5,
   "metadata": {},
   "outputs": [
    {
     "data": {
      "text/latex": [
       "$\\displaystyle L R g \\rho \\left(R \\sin{\\left(\\theta \\right)} + h\\right) \\cos{\\left(\\theta \\right)}$"
      ],
      "text/plain": [
       "L*R*g*rho*(R*sin(theta) + h)*cos(theta)"
      ]
     },
     "metadata": {},
     "output_type": "display_data"
    },
    {
     "data": {
      "text/latex": [
       "$\\displaystyle L R g \\rho \\left(R \\sin{\\left(\\theta \\right)} + h\\right) \\sin{\\left(\\theta \\right)}$"
      ],
      "text/plain": [
       "L*R*g*rho*(R*sin(theta) + h)*sin(theta)"
      ]
     },
     "metadata": {},
     "output_type": "display_data"
    }
   ],
   "source": [
    "# On défini les expressions symbolique des composantes de la \n",
    "# force élémentaire due à la différence de pression sur la vanne \n",
    "dFx = rho*g*R*L*(h+R*sin(teta))*cos(teta)\n",
    "dFy = rho*g*R*L*(h+R*sin(teta))*sin(teta)\n",
    "display(dFx,dFy)"
   ]
  },
  {
   "cell_type": "code",
   "execution_count": 6,
   "metadata": {},
   "outputs": [
    {
     "data": {
      "text/latex": [
       "$\\displaystyle \\frac{L R^{2} g \\rho}{2} + L R g \\rho \\left(- \\frac{R \\cos^{2}{\\left(2 \\theta_{0} \\right)}}{2} + h \\sin{\\left(2 \\theta_{0} \\right)}\\right)$"
      ],
      "text/plain": [
       "L*R**2*g*rho/2 + L*R*g*rho*(-R*cos(2*theta_0)**2/2 + h*sin(2*theta_0))"
      ]
     },
     "metadata": {},
     "output_type": "display_data"
    },
    {
     "data": {
      "text/latex": [
       "$\\displaystyle L R g h \\rho + L R g \\rho \\left(R \\theta_{0} \\sin^{2}{\\left(2 \\theta_{0} \\right)} + R \\theta_{0} \\cos^{2}{\\left(2 \\theta_{0} \\right)} - \\frac{R \\sin{\\left(2 \\theta_{0} \\right)} \\cos{\\left(2 \\theta_{0} \\right)}}{2} - h \\cos{\\left(2 \\theta_{0} \\right)}\\right)$"
      ],
      "text/plain": [
       "L*R*g*h*rho + L*R*g*rho*(R*theta_0*sin(2*theta_0)**2 + R*theta_0*cos(2*theta_0)**2 - R*sin(2*theta_0)*cos(2*theta_0)/2 - h*cos(2*theta_0))"
      ]
     },
     "metadata": {},
     "output_type": "display_data"
    }
   ],
   "source": [
    "# Intégration symbolique de dFx et dFy entre 0 et 2\\theta_0 et affichage du résultat :\n",
    "Fx=integrate(dFx,(teta,0,2*teta0))\n",
    "Fy=integrate(dFy,(teta,0,2*teta0))\n",
    "display(Fx,Fy)"
   ]
  },
  {
   "cell_type": "markdown",
   "metadata": {},
   "source": []
  }
 ],
 "metadata": {
  "kernelspec": {
   "display_name": "Python 3",
   "language": "python",
   "name": "python3"
  },
  "language_info": {
   "codemirror_mode": {
    "name": "ipython",
    "version": 3
   },
   "file_extension": ".py",
   "mimetype": "text/x-python",
   "name": "python",
   "nbconvert_exporter": "python",
   "pygments_lexer": "ipython3",
   "version": "3.7.7"
  }
 },
 "nbformat": 4,
 "nbformat_minor": 4
}
